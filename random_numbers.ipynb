{
 "cells": [
  {
   "cell_type": "code",
   "execution_count": 19,
   "id": "c9a5d1a0",
   "metadata": {},
   "outputs": [],
   "source": [
    "# Import the random module.\n",
    "import random\n",
    "\n",
    "# Import the NumPy module.\n",
    "import numpy as np\n",
    "\n",
    "# Import timeit.\n",
    "import timeit"
   ]
  },
  {
   "cell_type": "code",
   "execution_count": 10,
   "id": "e26438ee",
   "metadata": {},
   "outputs": [
    {
     "data": {
      "text/plain": [
       "-82"
      ]
     },
     "execution_count": 10,
     "metadata": {},
     "output_type": "execute_result"
    }
   ],
   "source": [
    "random.randint(-90, 90)"
   ]
  },
  {
   "cell_type": "code",
   "execution_count": 11,
   "id": "de3ccd18",
   "metadata": {},
   "outputs": [
    {
     "data": {
      "text/plain": [
       "0.634388844146628"
      ]
     },
     "execution_count": 11,
     "metadata": {},
     "output_type": "execute_result"
    }
   ],
   "source": [
    "random.random()"
   ]
  },
  {
   "cell_type": "code",
   "execution_count": 12,
   "id": "bcb3ca86",
   "metadata": {},
   "outputs": [],
   "source": [
    "x = 1\n",
    "latitudes = []\n",
    "while x < 11:\n",
    "    random_lat = random.randint(-90, 89) + random.random()\n",
    "    latitudes.append(random_lat)\n",
    "    x += 1"
   ]
  },
  {
   "cell_type": "code",
   "execution_count": 13,
   "id": "913848f8",
   "metadata": {},
   "outputs": [
    {
     "data": {
      "text/plain": [
       "[60.092951578005156,\n",
       " -34.49083220670346,\n",
       " -86.5662005036373,\n",
       " -68.18764595323258,\n",
       " -7.521837160986635,\n",
       " 40.348767540513855,\n",
       " 51.37898272333678,\n",
       " 7.740356823839668,\n",
       " -55.11116605068717,\n",
       " 31.700184611905158]"
      ]
     },
     "execution_count": 13,
     "metadata": {},
     "output_type": "execute_result"
    }
   ],
   "source": [
    "latitudes"
   ]
  },
  {
   "cell_type": "code",
   "execution_count": 14,
   "id": "8b304b62",
   "metadata": {},
   "outputs": [
    {
     "data": {
      "text/plain": [
       "-75"
      ]
     },
     "execution_count": 14,
     "metadata": {},
     "output_type": "execute_result"
    }
   ],
   "source": [
    "random.randrange(-90,90,step=5)"
   ]
  },
  {
   "cell_type": "code",
   "execution_count": 15,
   "id": "19688822",
   "metadata": {},
   "outputs": [
    {
     "data": {
      "text/plain": [
       "-29.981442563101034"
      ]
     },
     "execution_count": 15,
     "metadata": {},
     "output_type": "execute_result"
    }
   ],
   "source": [
    "np.random.uniform(-90.000, 90.000)"
   ]
  },
  {
   "cell_type": "code",
   "execution_count": 16,
   "id": "bfafa29a",
   "metadata": {},
   "outputs": [
    {
     "data": {
      "text/plain": [
       "array([-24.28217753, -37.33720575,  25.41679634, -38.26989362,\n",
       "        89.12727565, -73.94300084,  85.47220914, -69.52958342,\n",
       "       -41.23513362,  10.83933404, -66.61665631, -46.57519271,\n",
       "       -53.17686522,  71.39597039, -45.73977261,  57.43094367,\n",
       "       -40.25128472,  24.68402582,  83.16368587,  -3.67554326,\n",
       "        66.37223343,  13.79912783, -31.87195131, -11.70936834,\n",
       "       -67.59959392,  61.72984794,  49.6892593 , -53.02344133,\n",
       "       -32.54745539, -12.03418153,  11.11474091, -45.67623097,\n",
       "       -85.42699123, -85.09187194, -62.27211786, -44.9848867 ,\n",
       "        18.19619714, -13.96788938,  17.64623647, -49.3551106 ,\n",
       "        74.65075076,  33.34543935, -40.1059909 ,  36.37467002,\n",
       "        48.35232188, -61.93057098, -11.67737483,  73.93080776,\n",
       "       -35.82177841,  69.19845853])"
      ]
     },
     "execution_count": 16,
     "metadata": {},
     "output_type": "execute_result"
    }
   ],
   "source": [
    "np.random.uniform(-90.000, 90.000, size=50)"
   ]
  },
  {
   "cell_type": "code",
   "execution_count": 18,
   "id": "276011de",
   "metadata": {},
   "outputs": [
    {
     "name": "stdout",
     "output_type": "stream",
     "text": [
      "11.3 µs ± 167 ns per loop (mean ± std. dev. of 7 runs, 100000 loops each)\n"
     ]
    }
   ],
   "source": [
    "%timeit np.random.uniform(-90.000, 90.000, size=1500)"
   ]
  },
  {
   "cell_type": "code",
   "execution_count": 20,
   "id": "09f9f2f5",
   "metadata": {},
   "outputs": [
    {
     "name": "stdout",
     "output_type": "stream",
     "text": [
      "1.45 ms ± 9.17 µs per loop (mean ± std. dev. of 7 runs, 1000 loops each)\n"
     ]
    }
   ],
   "source": [
    "def latitudes(size):\n",
    "    latitudes = []\n",
    "    x = 0\n",
    "    while x < (size):\n",
    "        random_lat = random.randint(-90, 90) + random.random()\n",
    "        latitudes.append(random_lat)\n",
    "        x += 1\n",
    "    return latitudes\n",
    "\n",
    "# Call the function with 1500.\n",
    "%timeit latitudes(1500)"
   ]
  },
  {
   "cell_type": "code",
   "execution_count": null,
   "id": "8d9139d8",
   "metadata": {},
   "outputs": [],
   "source": []
  }
 ],
 "metadata": {
  "kernelspec": {
   "display_name": "PythonData",
   "language": "python",
   "name": "pythondata"
  },
  "language_info": {
   "codemirror_mode": {
    "name": "ipython",
    "version": 3
   },
   "file_extension": ".py",
   "mimetype": "text/x-python",
   "name": "python",
   "nbconvert_exporter": "python",
   "pygments_lexer": "ipython3",
   "version": "3.7.13"
  }
 },
 "nbformat": 4,
 "nbformat_minor": 5
}
